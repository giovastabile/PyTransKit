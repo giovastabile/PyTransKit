{
 "cells": [
  {
   "cell_type": "markdown",
   "metadata": {},
   "source": [
    "# 3D Radon-Cumulative Distribution Transform Nearest Subspace (3D-RCDT-NS) Classifier\n",
    "\n",
    "This tutorial will demonstrate how to use the 3D-RCDT-NS classifier in the *PyTransKit* package."
   ]
  },
  {
   "cell_type": "markdown",
   "metadata": {},
   "source": [
    "## Class:: RCDT_NS_3D\n",
    "\n",
    "**Functions**:\n",
    "\n",
    "1. Constructor function:\n",
    "        rcdt_ns_obj = RCDT_NS(num_classes, thetas, rm_edge)\n",
    "        \n",
    "        Inputs:\n",
    "        ----------------\n",
    "        num_classes : integer value\n",
    "            totale number of classes in the dataset.\n",
    "        Npoints : scalar; number of radon projections\n",
    "        use_gpu : boolean; IF TRUE, use GPU to calculate 3D RCDT\n",
    "        rm_edge : boolean \n",
    "            IF TRUE, the first and last points of RCDTs will be removed.\n",
    "            \n",
    "        Outputs:\n",
    "        ----------------\n",
    "        rcdt_ns_obj : class object\n",
    "            Instance of the class RCDT_NS.\n",
    "            \n",
    "2. Fit function:\n",
    "        rcdt_ns_obj.fit(Xtrain, Ytrain, no_deform_model)\n",
    "        \n",
    "        Inputs:\n",
    "        ----------------\n",
    "        Xtrain : 4d array, shape (n_samples, L, L, L)\n",
    "            3D Image data for training. L is the dimension along X,Y, and Z axes.\n",
    "        Ytrain : 1d array, shape (n_samples,)\n",
    "            Labels of the training images.\n",
    "        no_deform_model : boolean\n",
    "            IF TRUE, no deformation model will be added\n",
    "  \n",
    "3. Predict function:\n",
    "        preds = rcdt_ns_obj.predict(Xtest, use_gpu)\n",
    "        \n",
    "        Inputs:\n",
    "        ----------------\n",
    "        Xtest : 4d array, shape (n_samples, L, L, L)\n",
    "            3D Image data for testing. L is the dimension along X,Y, and Z axes.\n",
    "        use_gpu : boolean \n",
    "            IF TRUE, use gpu for calculations.\n",
    "            \n",
    "        Outputs:\n",
    "        ----------------\n",
    "        preds : 1d array, shape (n_samples,)\n",
    "           Predicted labels for test samples.\n",
    "    "
   ]
  },
  {
   "cell_type": "markdown",
   "metadata": {},
   "source": [
    "## Example\n",
    "The following example will demonstrate how to:\n",
    "* create and initialize an instance of the class 3D-RCDT_NS\n",
    "* train the model with training images\n",
    "* apply the model to predict calss labels of the test images\n",
    "In this example we have used MNIST dataset stored in the *data* folder"
   ]
  },
  {
   "cell_type": "markdown",
   "metadata": {},
   "source": [
    "### Import some python libraries"
   ]
  },
  {
   "cell_type": "code",
   "execution_count": 1,
   "metadata": {},
   "outputs": [],
   "source": [
    "import numpy as np\n",
    "from sklearn.metrics import accuracy_score\n",
    "from pathlib import Path\n",
    "import sys\n",
    "sys.path.append('../')\n",
    "from pytranskit.classification.utils import *\n",
    "\n",
    "use_gpu = True"
   ]
  },
  {
   "cell_type": "markdown",
   "metadata": {},
   "source": [
    "### Import 3D-RCDT-NS class from *PyTransKit* package"
   ]
  },
  {
   "cell_type": "code",
   "execution_count": 2,
   "metadata": {},
   "outputs": [],
   "source": [
    "from pytranskit.classification.rcdt_ns_3d import RCDT_NS_3D"
   ]
  },
  {
   "cell_type": "markdown",
   "metadata": {},
   "source": [
    "### Load dataset\n",
    "For loading data we have used *load_data_3D* function from the *pytranskit/classifier/utils.py* script. It takes name and directory of the dataset, and total number of classes as input. Returns both train and test images in two separate 4d arrays of shape (n_samples, n_rows, n_columns, n_columns), and corresponding class labels. User can use there own implementation to load data, just need to make sure that the output arrays are consistent.<br>\n",
    "<br>In this example, we have used a synthetic 3D dataset with two classes: class 0 contains one Gaussian blob in each image, class 1 contains two Gaussian blobs in each image.<br>\n",
    "<br>Note: The 3D RCDT implemented in PyTransKit, 3D images need to be equal shape along all three directions, i.e. *n_rows=n_columns=n_columns=L*. Therefore, if the original image does not have equal length in all axes, users need to zero pad to make all the dimensions equal."
   ]
  },
  {
   "cell_type": "code",
   "execution_count": 3,
   "metadata": {},
   "outputs": [
    {
     "name": "stdout",
     "output_type": "stream",
     "text": [
      "loading data from mat files\n",
      "split training class 0 data.shape (50, 32, 32, 32)\n",
      "split training class 1 data.shape (50, 32, 32, 32)\n",
      "split testing class 0 data.shape (50, 32, 32, 32)\n",
      "split testing class 1 data.shape (50, 32, 32, 32)\n",
      "x_train.shape (100, 32, 32, 32) x_test.shape (100, 32, 32, 32)\n",
      "saved to ./data/synthetic_3D/dataset.hdf5\n"
     ]
    }
   ],
   "source": [
    "datadir = './data'\n",
    "dataset = 'synthetic_3D'\n",
    "num_classes = 2          # total number of classes in the dataset\n",
    "(x_train, y_train), (x_test, y_test) = load_data_3D(dataset, num_classes, datadir)  # load_data function from utils.py"
   ]
  },
  {
   "cell_type": "markdown",
   "metadata": {},
   "source": [
    "In this example we have used 32 randomly chosen samples per class to train the model. We have used another function *take_train_samples* function from *utils.py* script for this. User can use their own script."
   ]
  },
  {
   "cell_type": "code",
   "execution_count": 4,
   "metadata": {},
   "outputs": [],
   "source": [
    "n_samples_perclass = 32  # total number of training samples per class used in this example\n",
    "x_train_sub, y_train_sub = take_train_samples(x_train, y_train, n_samples_perclass, \n",
    "                                              num_classes, repeat=0) # function from utils.py"
   ]
  },
  {
   "cell_type": "markdown",
   "metadata": {},
   "source": [
    "### Create an instance of 3D-RCDT-NS class"
   ]
  },
  {
   "cell_type": "code",
   "execution_count": 5,
   "metadata": {},
   "outputs": [],
   "source": [
    "Npoints = 500    # choose number projections 3D Radon transform\n",
    "rcdt_ns_obj = RCDT_NS_3D(num_classes, Npoints, use_gpu, rm_edge=True)"
   ]
  },
  {
   "cell_type": "markdown",
   "metadata": {},
   "source": [
    "### Training phase\n",
    "This function takes the train samples and labels as input, and stores the basis vectors for corresponding classes in a *private* variable. This variable will be used in the *predict* function in the test phase"
   ]
  },
  {
   "cell_type": "code",
   "execution_count": 6,
   "metadata": {},
   "outputs": [
    {
     "name": "stdout",
     "output_type": "stream",
     "text": [
      "\n",
      "Calculating RCDTs for training images ...\n",
      "Generating basis vectors for each class ...\n"
     ]
    }
   ],
   "source": [
    "rcdt_ns_obj.fit(x_train_sub, y_train_sub)"
   ]
  },
  {
   "cell_type": "markdown",
   "metadata": {},
   "source": [
    "### Testing phase\n",
    "*predict* function takes the train samples as input and returns the predicted class labels"
   ]
  },
  {
   "cell_type": "code",
   "execution_count": 7,
   "metadata": {},
   "outputs": [
    {
     "name": "stdout",
     "output_type": "stream",
     "text": [
      "\n",
      "Calculating RCDTs for testing images ...\n",
      "Finding nearest subspace for each test sample ...\n"
     ]
    }
   ],
   "source": [
    "preds = rcdt_ns_obj.predict(x_test, use_gpu)"
   ]
  },
  {
   "cell_type": "code",
   "execution_count": 8,
   "metadata": {},
   "outputs": [
    {
     "name": "stdout",
     "output_type": "stream",
     "text": [
      "\n",
      "Test accuracy: 98.0%\n"
     ]
    }
   ],
   "source": [
    "print('\\nTest accuracy: {}%'.format(100*accuracy_score(y_test, preds)))"
   ]
  },
  {
   "cell_type": "code",
   "execution_count": null,
   "metadata": {},
   "outputs": [],
   "source": []
  }
 ],
 "metadata": {
  "kernelspec": {
   "display_name": "Python 3",
   "language": "python",
   "name": "python3"
  },
  "language_info": {
   "codemirror_mode": {
    "name": "ipython",
    "version": 3
   },
   "file_extension": ".py",
   "mimetype": "text/x-python",
   "name": "python",
   "nbconvert_exporter": "python",
   "pygments_lexer": "ipython3",
   "version": "3.7.4"
  }
 },
 "nbformat": 4,
 "nbformat_minor": 2
}
