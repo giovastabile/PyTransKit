{
 "cells": [
  {
   "cell_type": "markdown",
   "metadata": {},
   "source": [
    "# Cumulative Distribution Transform Nearest Subspace (CDT-NS) Classifier\n",
    "\n",
    "This tutorial will demonstrate how to use the CDT-NS classifier for 1D data in the *PyTransKit* package."
   ]
  },
  {
   "cell_type": "markdown",
   "metadata": {},
   "source": [
    "## Class:: CDT_NS\n",
    "**Functions**:\n",
    "\n",
    "1. Constructor function:\n",
    "        cdt_ns_obj = CDT_NS(num_classes, rm_edge)\n",
    "        \n",
    "        Inputs:\n",
    "        ----------------\n",
    "        num_classes : integer value\n",
    "            totale number of classes in the dataset.\n",
    "        rm_edge : boolean \n",
    "            IF TRUE the first and last points of CDTs will be removed.\n",
    "            \n",
    "        Outputs:\n",
    "        ----------------\n",
    "        cdt_ns_obj : class object\n",
    "            Instance of the class CDT_NS.\n",
    "            \n",
    "2. Fit function:\n",
    "        cdt_ns_obj.fit(Xtrain, Ytrain, no_deform_model)\n",
    "        \n",
    "        Inputs:\n",
    "        ----------------\n",
    "        Xtrain : array-like, shape (n_samples, n_columns)\n",
    "            1D data for training.\n",
    "        Ytrain : ndarray of shape (n_samples,)\n",
    "            Labels of the training samples.\n",
    "        no_deform_model : boolean flag; IF TRUE, no deformation model will be added\n",
    "            default = False.\n",
    "  \n",
    "3. Predict function:\n",
    "        preds = cdt_ns_obj.predict(Xtest, use_gpu)\n",
    "        \n",
    "        Inputs:\n",
    "        ----------------\n",
    "        Xtest : array-like, shape (n_samples, n_columns)\n",
    "            1D data for testing.\n",
    "        use_gpu: boolean flag; IF TRUE, use gpu for calculations\n",
    "            default = False.\n",
    "            \n",
    "        Outputs:\n",
    "        ----------------\n",
    "        preds : 1d array, shape (n_samples,)\n",
    "           Predicted labels for test samples.\n",
    "    "
   ]
  },
  {
   "cell_type": "markdown",
   "metadata": {},
   "source": [
    "## Example\n",
    "The following example will demonstrate how to:\n",
    "* create and initialize an instance of the class CDT_NS\n",
    "* train the model with training 1D samples\n",
    "* apply the model to predict calss labels of the test 1D samples\n",
    "In this example we have used a synthetic dataset (1D) stored in the *data* folder. The dataset contains two classes.<br>\n",
    "Class 0: different translated versions of Gaussian signal<br>\n",
    "Class 1: translated versions of summation of two Gaussian signals"
   ]
  },
  {
   "cell_type": "markdown",
   "metadata": {},
   "source": [
    "### Import some python libraries"
   ]
  },
  {
   "cell_type": "code",
   "execution_count": 1,
   "metadata": {},
   "outputs": [],
   "source": [
    "import numpy as np\n",
    "from sklearn.metrics import accuracy_score\n",
    "from pathlib import Path\n",
    "import sys\n",
    "sys.path.append('../')\n",
    "from pytranskit.classification.utils import *\n",
    "\n",
    "use_gpu = False"
   ]
  },
  {
   "cell_type": "markdown",
   "metadata": {},
   "source": [
    "### Import CDT-NS class from *PyTransKit* package"
   ]
  },
  {
   "cell_type": "code",
   "execution_count": 2,
   "metadata": {},
   "outputs": [],
   "source": [
    "from pytranskit.classification.cdt_ns import CDT_NS"
   ]
  },
  {
   "cell_type": "markdown",
   "metadata": {},
   "source": [
    "### Load dataset\n",
    "For loading data we have used *load_data_1D* function from the *pytranskit/classifier/utils.py* script. It takes name and directory of the dataset, and total number of classes as input. Returns both train and test samples in two separate 2d arrays of shape (n_samples, n_columns), and corresponding class labels. User can use there own implementation to load data, just need to make sure that the output arrays are consistent."
   ]
  },
  {
   "cell_type": "code",
   "execution_count": 3,
   "metadata": {},
   "outputs": [
    {
     "name": "stdout",
     "output_type": "stream",
     "text": [
      "loading data from mat files\n",
      "x_train.shape (1400, 201) x_test.shape (600, 201)\n",
      "saved to ./data/synthetic_1D/dataset.hdf5\n"
     ]
    }
   ],
   "source": [
    "datadir = './data'\n",
    "dataset = 'synthetic_1D'\n",
    "num_classes = 2          # total number of classes in the dataset\n",
    "(x_train, y_train), (x_test, y_test) = load_data_1D(dataset, num_classes, datadir)  # load_data function from utils.py"
   ]
  },
  {
   "cell_type": "markdown",
   "metadata": {},
   "source": [
    "In this example we have used 512 randomly chosen samples per class to train the model. We have used another function *take_train_samples* function from *utils.py* script for this. User can use their own script."
   ]
  },
  {
   "cell_type": "code",
   "execution_count": 4,
   "metadata": {},
   "outputs": [],
   "source": [
    "n_samples_perclass = 512  # total number of training samples per class used in this example\n",
    "x_train_sub, y_train_sub = take_train_samples(x_train, y_train, n_samples_perclass, \n",
    "                                              num_classes, repeat=0) # function from utils.py"
   ]
  },
  {
   "cell_type": "markdown",
   "metadata": {},
   "source": [
    "### Create an instance of CDT_NS class"
   ]
  },
  {
   "cell_type": "code",
   "execution_count": 5,
   "metadata": {},
   "outputs": [],
   "source": [
    "cdt_ns_obj = CDT_NS(num_classes, rm_edge=True)"
   ]
  },
  {
   "cell_type": "markdown",
   "metadata": {},
   "source": [
    "### Training phase\n",
    "This function takes the train samples and labels as input, and stores the basis vectors for corresponding classes in a *private* variable. This variable will be used in the *predict* function in the test phase"
   ]
  },
  {
   "cell_type": "code",
   "execution_count": 6,
   "metadata": {},
   "outputs": [
    {
     "name": "stdout",
     "output_type": "stream",
     "text": [
      "(1024, 201)\n",
      "\n",
      "Calculating CDTs for training data ...\n",
      "Generating basis vectors for each class ...\n"
     ]
    }
   ],
   "source": [
    "print(x_train_sub.shape)\n",
    "cdt_ns_obj.fit(x_train_sub, y_train_sub)"
   ]
  },
  {
   "cell_type": "markdown",
   "metadata": {},
   "source": [
    "### Testing phase\n",
    "*predict* function takes the train samples as input and returns the predicted class labels"
   ]
  },
  {
   "cell_type": "code",
   "execution_count": 7,
   "metadata": {},
   "outputs": [
    {
     "name": "stdout",
     "output_type": "stream",
     "text": [
      "\n",
      "Calculating CDTs for testing samples ...\n",
      "Finding nearest subspace for each test sample ...\n"
     ]
    }
   ],
   "source": [
    "preds = cdt_ns_obj.predict(x_test, use_gpu)"
   ]
  },
  {
   "cell_type": "code",
   "execution_count": 8,
   "metadata": {},
   "outputs": [
    {
     "name": "stdout",
     "output_type": "stream",
     "text": [
      "\n",
      "Test accuracy: 100.0%\n"
     ]
    }
   ],
   "source": [
    "print('\\nTest accuracy: {}%'.format(100*accuracy_score(y_test, preds)))"
   ]
  },
  {
   "cell_type": "code",
   "execution_count": null,
   "metadata": {},
   "outputs": [],
   "source": []
  }
 ],
 "metadata": {
  "kernelspec": {
   "display_name": "Python 3",
   "language": "python",
   "name": "python3"
  },
  "language_info": {
   "codemirror_mode": {
    "name": "ipython",
    "version": 3
   },
   "file_extension": ".py",
   "mimetype": "text/x-python",
   "name": "python",
   "nbconvert_exporter": "python",
   "pygments_lexer": "ipython3",
   "version": "3.7.4"
  }
 },
 "nbformat": 4,
 "nbformat_minor": 2
}
